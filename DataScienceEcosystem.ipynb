{
 "cells": [
  {
   "cell_type": "markdown",
   "id": "a06ef3e0-2ed0-4986-bfd4-67f02be2294d",
   "metadata": {},
   "source": [
    "# Data Science Tools and Ecosystem"
   ]
  },
  {
   "cell_type": "markdown",
   "id": "347d4b01-452b-41be-ba06-cb2fad38c026",
   "metadata": {},
   "source": [
    "<strong> Objectives: </strong>\n",
    "* List popular languages for Data Science\n",
    "* List commonly used libraries by Data Scientists\n",
    "* Show a few examples of simple arithmetic expressions\n"
   ]
  },
  {
   "cell_type": "markdown",
   "id": "cbc0080e-dc4c-40d7-9b7e-d4db2b6dce7a",
   "metadata": {
    "jp-MarkdownHeadingCollapsed": true,
    "tags": []
   },
   "source": [
    "#### In this notebook, Data Science Tools and Ecosystem are summarized"
   ]
  },
  {
   "cell_type": "markdown",
   "id": "b85d8132-ce75-42ed-a53d-61dc203dd6d3",
   "metadata": {},
   "source": [
    "#### Some of the popular languages that Data Scientists use are:\n",
    "\n",
    "1. Python\n",
    "2. R\n",
    "3. SQL"
   ]
  },
  {
   "cell_type": "markdown",
   "id": "0c951927-12ba-423e-830a-b48418e2cb50",
   "metadata": {},
   "source": [
    "#### Some of the commonly used libraries by Data Scientists include:\n",
    "\n",
    "1. Pandas\n",
    "2. Numpy\n",
    "3. TensorFlow\n",
    "4. SciPy\n",
    "5. Matplotlib"
   ]
  },
  {
   "cell_type": "markdown",
   "id": "2f7e9a0a-9597-4dc2-ba47-6e6bdb951354",
   "metadata": {},
   "source": [
    "| Data Science Tools |\n",
    "| :-: |\n",
    "| JupyterLab |\n",
    "| RStudio |\n",
    "| Spyder  |"
   ]
  },
  {
   "cell_type": "markdown",
   "id": "781485ee-b697-4832-931b-5508e090c955",
   "metadata": {},
   "source": [
    "### Below are a few examples of evaluating arithmetic expressions in Python\n"
   ]
  },
  {
   "cell_type": "code",
   "execution_count": 2,
   "id": "d4d90d8c-ca99-4acb-a2bd-d70acde9031d",
   "metadata": {},
   "outputs": [
    {
     "data": {
      "text/plain": [
       "17"
      ]
     },
     "execution_count": 2,
     "metadata": {},
     "output_type": "execute_result"
    }
   ],
   "source": [
    "# This is a simple arithmetic expression to multiply then add integers\n",
    "\n",
    "(3*4) + 5"
   ]
  },
  {
   "cell_type": "code",
   "execution_count": 5,
   "id": "012817c3-466f-45d2-98f9-5e1d408e435a",
   "metadata": {},
   "outputs": [
    {
     "data": {
      "text/plain": [
       "33.333333333333336"
      ]
     },
     "execution_count": 5,
     "metadata": {},
     "output_type": "execute_result"
    }
   ],
   "source": [
    "# This will convert minutes into hours by dividing by 60\n",
    "\n",
    "200/6"
   ]
  },
  {
   "cell_type": "markdown",
   "id": "eff0659f-afb8-432a-81ec-c85209db75c2",
   "metadata": {},
   "source": [
    "## Author\n",
    "Ana Finocchi"
   ]
  },
  {
   "cell_type": "code",
   "execution_count": null,
   "id": "11fc56dd-c7af-4de5-baa6-34fa79403371",
   "metadata": {},
   "outputs": [],
   "source": []
  }
 ],
 "metadata": {
  "kernelspec": {
   "display_name": "Python",
   "language": "python",
   "name": "conda-env-python-py"
  },
  "language_info": {
   "codemirror_mode": {
    "name": "ipython",
    "version": 3
   },
   "file_extension": ".py",
   "mimetype": "text/x-python",
   "name": "python",
   "nbconvert_exporter": "python",
   "pygments_lexer": "ipython3",
   "version": "3.7.12"
  }
 },
 "nbformat": 4,
 "nbformat_minor": 5
}
